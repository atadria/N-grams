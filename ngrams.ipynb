{
  "nbformat": 4,
  "nbformat_minor": 0,
  "metadata": {
    "colab": {
      "name": "ngrams",
      "provenance": []
    },
    "kernelspec": {
      "name": "python3",
      "display_name": "Python 3"
    },
    "language_info": {
      "name": "python"
    }
  },
  "cells": [
    {
      "cell_type": "code",
      "execution_count": null,
      "metadata": {
        "id": "Pou6ClTRN5TM"
      },
      "outputs": [],
      "source": [
        "import random\n",
        "import string\n",
        "import re\n",
        "from collections import Counter\n",
        "import urllib.request\n",
        "\n",
        "import nltk\n",
        "import numpy as np\n",
        "import bs4 as bs\n",
        "\n",
        "nltk.download('punkt')"
      ]
    },
    {
      "cell_type": "markdown",
      "source": [
        "# Scrap data"
      ],
      "metadata": {
        "id": "OX1moZRGOG8u"
      }
    },
    {
      "cell_type": "code",
      "source": [
        "raw_html = urllib.request.urlopen('https://en.wikipedia.org/wiki/Tennis')\n",
        "raw_html = raw_html.read()\n",
        "\n",
        "article_html = bs.BeautifulSoup(raw_html, 'lxml')\n",
        "article_paragraphs = article_html.find_all('p')\n",
        "article_text = ''\n",
        "\n",
        "for para in article_paragraphs:\n",
        "    article_text += para.text\n",
        "\n",
        "article_text = article_text.lower()\n",
        "\n",
        "article_text"
      ],
      "metadata": {
        "id": "Z6sPkDVbN_81"
      },
      "execution_count": null,
      "outputs": []
    },
    {
      "cell_type": "markdown",
      "source": [
        "## Data cleaning"
      ],
      "metadata": {
        "id": "Re4lBF-EOQIk"
      }
    },
    {
      "cell_type": "code",
      "source": [
        "article_text = re.sub(r'[^A-Za-z. ]', '', article_text)\n",
        "article_text"
      ],
      "metadata": {
        "id": "MiUC840ZOGNW"
      },
      "execution_count": null,
      "outputs": []
    },
    {
      "cell_type": "markdown",
      "source": [
        "# Create n-grams"
      ],
      "metadata": {
        "id": "NfWRjJomO7hg"
      }
    },
    {
      "cell_type": "code",
      "source": [
        "# TODO: change to function \n",
        "# def generate_ngrams(text, n)\n",
        "\n",
        "ngrams = {}\n",
        "seqs = []\n",
        "n_words = 3\n",
        "\n",
        "words_tokens = nltk.word_tokenize(article_text)\n",
        "for i in range(len(words_tokens) - n_words):\n",
        "    seq = ' '.join(words_tokens[i : i + n_words])\n",
        "    seqs.append(seq)\n",
        "    if  seq not in ngrams.keys():\n",
        "        ngrams[seq] = []\n",
        "    ngrams[seq].append(words_tokens[i + n_words])"
      ],
      "metadata": {
        "id": "58uE_QnjOYP_"
      },
      "execution_count": 7,
      "outputs": []
    },
    {
      "cell_type": "code",
      "source": [
        "Counter(seqs).most_common(10)"
      ],
      "metadata": {
        "id": "VALfXqdlYCyM"
      },
      "execution_count": null,
      "outputs": []
    },
    {
      "cell_type": "code",
      "source": [
        "ngrams"
      ],
      "metadata": {
        "id": "tczQagrNXH64"
      },
      "execution_count": null,
      "outputs": []
    },
    {
      "cell_type": "markdown",
      "source": [
        "# Text generation"
      ],
      "metadata": {
        "id": "IHUItDHkWO3O"
      }
    },
    {
      "cell_type": "code",
      "source": [
        "curr_sequence = ' '.join(words_tokens[0 : n_words])\n",
        "output = curr_sequence\n",
        "\n",
        "for i in range(50):\n",
        "    if curr_sequence not in ngrams.keys():\n",
        "        break\n",
        "    possible_words = ngrams[curr_sequence]\n",
        "    next_word = possible_words[random.randrange(len(possible_words))]\n",
        "    output += ' ' + next_word\n",
        "    seq_words = nltk.word_tokenize(output)\n",
        "    curr_sequence = ' '.join(seq_words[len(seq_words) - n_words : len(seq_words)])\n",
        "\n",
        "print(output)"
      ],
      "metadata": {
        "id": "jy5jTNMNPjPB"
      },
      "execution_count": null,
      "outputs": []
    }
  ]
}