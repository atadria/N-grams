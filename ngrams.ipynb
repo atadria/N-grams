{
 "cells": [
  {
   "cell_type": "code",
   "execution_count": null,
   "metadata": {
    "id": "Pou6ClTRN5TM"
   },
   "outputs": [],
   "source": [
    "import random\n",
    "import string\n",
    "import re\n",
    "from collections import Counter\n",
    "import urllib.request\n",
    "\n",
    "import nltk\n",
    "import numpy as np\n",
    "import bs4 as bs\n",
    "\n",
    "nltk.download('punkt')"
   ]
  },
  {
   "cell_type": "markdown",
   "metadata": {
    "id": "OX1moZRGOG8u"
   },
   "source": [
    "# Scrap data"
   ]
  },
  {
   "cell_type": "code",
   "execution_count": null,
   "metadata": {
    "id": "Z6sPkDVbN_81"
   },
   "outputs": [],
   "source": [
    "raw_html = urllib.request.urlopen('https://en.wikipedia.org/wiki/Tennis')\n",
    "raw_html = raw_html.read()\n",
    "\n",
    "article_html = bs.BeautifulSoup(raw_html, 'lxml')\n",
    "article_paragraphs = article_html.find_all('p')\n",
    "article_text = ''\n",
    "\n",
    "for para in article_paragraphs:\n",
    "    article_text += para.text\n",
    "\n",
    "article_text = article_text.lower()\n",
    "\n",
    "article_text"
   ]
  },
  {
   "cell_type": "markdown",
   "metadata": {
    "id": "Re4lBF-EOQIk"
   },
   "source": [
    "## Data cleaning"
   ]
  },
  {
   "cell_type": "code",
   "execution_count": null,
   "metadata": {
    "id": "MiUC840ZOGNW"
   },
   "outputs": [],
   "source": [
    "article_text = re.sub(r'[^A-Za-z. ]', '', article_text)\n",
    "article_text"
   ]
  },
  {
   "cell_type": "markdown",
   "metadata": {
    "id": "NfWRjJomO7hg"
   },
   "source": [
    "# Create n-grams"
   ]
  },
  {
   "cell_type": "code",
   "execution_count": null,
   "metadata": {
    "id": "58uE_QnjOYP_"
   },
   "outputs": [],
   "source": [
    "# TODO: change to function \n",
    "# def generate_ngrams(text, n)\n",
    "\n",
    "ngrams = {}\n",
    "seqs = []\n",
    "n_words = 3\n",
    "\n",
    "words_tokens = nltk.word_tokenize(article_text)\n",
    "for i in range(len(words_tokens) - n_words):\n",
    "    seq = ' '.join(words_tokens[i : i + n_words])\n",
    "    seqs.append(seq)\n",
    "    if  seq not in ngrams.keys():\n",
    "        ngrams[seq] = []\n",
    "    ngrams[seq].append(words_tokens[i + n_words])"
   ]
  },
  {
   "cell_type": "code",
   "execution_count": null,
   "metadata": {
    "id": "VALfXqdlYCyM"
   },
   "outputs": [],
   "source": [
    "Counter(seqs).most_common(10)"
   ]
  },
  {
   "cell_type": "code",
   "execution_count": null,
   "metadata": {
    "id": "tczQagrNXH64"
   },
   "outputs": [],
   "source": [
    "ngrams"
   ]
  },
  {
   "cell_type": "markdown",
   "metadata": {
    "id": "IHUItDHkWO3O"
   },
   "source": [
    "# Text generation"
   ]
  },
  {
   "cell_type": "code",
   "execution_count": null,
   "metadata": {
    "id": "jy5jTNMNPjPB"
   },
   "outputs": [],
   "source": [
    "curr_sequence = ' '.join(words_tokens[0 : n_words])\n",
    "output = curr_sequence\n",
    "\n",
    "for i in range(50):\n",
    "    if curr_sequence not in ngrams.keys():\n",
    "        break\n",
    "    possible_words = ngrams[curr_sequence]\n",
    "    next_word = possible_words[random.randrange(len(possible_words))]\n",
    "    output += ' ' + next_word\n",
    "    seq_words = nltk.word_tokenize(output)\n",
    "    curr_sequence = ' '.join(seq_words[len(seq_words) - n_words : len(seq_words)])\n",
    "\n",
    "print(output)"
   ]
  }
 ],
 "metadata": {
  "colab": {
   "name": "ngrams",
   "provenance": []
  },
  "kernelspec": {
   "display_name": "Python 3 (ipykernel)",
   "language": "python",
   "name": "python3"
  },
  "language_info": {
   "codemirror_mode": {
    "name": "ipython",
    "version": 3
   },
   "file_extension": ".py",
   "mimetype": "text/x-python",
   "name": "python",
   "nbconvert_exporter": "python",
   "pygments_lexer": "ipython3",
   "version": "3.8.9"
  }
 },
 "nbformat": 4,
 "nbformat_minor": 1
}
